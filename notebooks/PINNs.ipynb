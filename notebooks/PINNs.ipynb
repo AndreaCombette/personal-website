{
 "cells": [
  {
   "cell_type": "markdown",
   "id": "0a1606e7",
   "metadata": {},
   "source": [
    "# I. What is a PINNs"
   ]
  }
 ],
 "metadata": {
  "kernelspec": {
   "display_name": "magellan",
   "language": "python",
   "name": "python3"
  },
  "language_info": {
   "codemirror_mode": {
    "name": "ipython",
    "version": 3
   },
   "file_extension": ".py",
   "mimetype": "text/x-python",
   "name": "python",
   "nbconvert_exporter": "python",
   "pygments_lexer": "ipython3",
   "version": "3.12.9"
  }
 },
 "nbformat": 4,
 "nbformat_minor": 5
}
